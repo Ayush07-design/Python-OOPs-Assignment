{
  "nbformat": 4,
  "nbformat_minor": 0,
  "metadata": {
    "colab": {
      "provenance": []
    },
    "kernelspec": {
      "name": "python3",
      "display_name": "Python 3"
    },
    "language_info": {
      "name": "python"
    }
  },
  "cells": [
    {
      "cell_type": "markdown",
      "source": [
        "# **Python OOPs Questions**"
      ],
      "metadata": {
        "id": "3sOxZMayNo0_"
      }
    },
    {
      "cell_type": "markdown",
      "source": [
        "1.**What is Object-Oriented Programming (OOP)**\n",
        "\n",
        "   Object-Oriented Programming (OOP) is a way of programming that organizes code into **objects** which combine data (attributes) and actions (methods). Its key principles are **encapsulation, abstraction, inheritance, and polymorphism**.\n"
      ],
      "metadata": {
        "id": "oncIc2XON8YS"
      }
    },
    {
      "cell_type": "markdown",
      "source": [
        "2.**What is a class in OOP**\n",
        "    \n",
        "   A class in OOP is a blueprint that defines the structure and behavior (data and methods) of objects.\n",
        "\n",
        "  "
      ],
      "metadata": {
        "id": "fGrmqNgjOn94"
      }
    },
    {
      "cell_type": "markdown",
      "source": [
        "3.**What is an object in OOP**\n",
        "\n",
        "  An **object** in OOP is an instance of a class that contains data and methods defined by that class.\n"
      ],
      "metadata": {
        "id": "cQRQygSfPx10"
      }
    },
    {
      "cell_type": "markdown",
      "source": [
        "4.**What is the difference between abstraction and encapsulation**\n",
        "\n",
        "   **Abstraction** focuses on hiding implementation details and showing only essential features, while **Encapsulation** is about wrapping data and methods together and controlling access to them.\n"
      ],
      "metadata": {
        "id": "NplwesEhQkUD"
      }
    },
    {
      "cell_type": "markdown",
      "source": [
        "5.**What are dunder methods in Python**\n",
        "\n",
        "   Dunder methods in Python are special methods with double underscores (like `__init__` or `__str__`) that define how objects of a class behave in built-in operations.\n"
      ],
      "metadata": {
        "id": "yMYBj5SfQ76n"
      }
    },
    {
      "cell_type": "markdown",
      "source": [
        "6.**Explain the concept of inheritance in OOP**\n",
        "\n",
        "  **Inheritance** in OOP is the concept where one class (child) can use and extend the properties and methods of another class (parent).\n"
      ],
      "metadata": {
        "id": "5wQuXzLPROkE"
      }
    },
    {
      "cell_type": "markdown",
      "source": [
        "7.What is polymorphism in OOP\n",
        "\n",
        "   **Polymorphism** in OOP allows the same method or function to perform different actions depending on the object that calls it.\n"
      ],
      "metadata": {
        "id": "0kvSMuAaRcva"
      }
    },
    {
      "cell_type": "markdown",
      "source": [
        "8.**How is encapsulation achieved in Python**\n",
        "\n",
        "   Encapsulation in Python is achieved by restricting access to variables and methods using **private (`__`)** or **protected (`_`)** access modifiers and providing getters/setters.\n"
      ],
      "metadata": {
        "id": "mCBv-5CzR4M2"
      }
    },
    {
      "cell_type": "markdown",
      "source": [
        "9.**What is a constructor in Python**\n",
        "\n",
        "   A **constructor** in Python is the `__init__` method that automatically runs when an object is created to initialize its data.\n"
      ],
      "metadata": {
        "id": "SU503b9WSJxg"
      }
    },
    {
      "cell_type": "markdown",
      "source": [
        "10.**What are class and static methods in Python**\n",
        "\n",
        "   A **class method** in Python uses `@classmethod` and works with the class itself (takes `cls` as parameter).\n",
        "A **static method** uses `@staticmethod` and doesn’t need `self` or `cls`, it works independently of class or object.\n"
      ],
      "metadata": {
        "id": "5HTbsmAMSan_"
      }
    },
    {
      "cell_type": "markdown",
      "source": [
        "11.**What is method overloading in Python**\n",
        "\n",
        "  **Method overloading** in Python means defining multiple methods with the same name but different parameters, though Python only supports it using default arguments or variable-length arguments.\n"
      ],
      "metadata": {
        "id": "6oi2PNGeSqWl"
      }
    },
    {
      "cell_type": "markdown",
      "source": [
        "12.**What is method overriding in OOP**\n",
        "\n",
        "  **Method overriding** in OOP is when a subclass provides a new implementation of a method that already exists in its parent class.\n"
      ],
      "metadata": {
        "id": "7C3-8MSGS3kG"
      }
    },
    {
      "cell_type": "markdown",
      "source": [
        "13.**What is a property decorator in Python**\n",
        "\n",
        "  A **property decorator** (`@property`) in Python is used to define methods that can be accessed like attributes, often for creating getters, setters, and deleters.\n"
      ],
      "metadata": {
        "id": "prcXsg6MTI9R"
      }
    },
    {
      "cell_type": "markdown",
      "source": [
        "14.**Why is polymorphism important in OOP**\n",
        "\n",
        "   Polymorphism is important in OOP because it allows different objects to be used interchangeably, making code more flexible and reusable.\n"
      ],
      "metadata": {
        "id": "dVJCKbTDTYsv"
      }
    },
    {
      "cell_type": "markdown",
      "source": [
        "15.**What is an abstract class in Python**\n",
        "\n",
        "   An **abstract class** in Python is a class defined using the `abc` module that cannot be instantiated and can contain abstract methods that must be implemented by subclasses.\n"
      ],
      "metadata": {
        "id": "O8bNvzHKTjYc"
      }
    },
    {
      "cell_type": "markdown",
      "source": [
        "16.**What are the advantages of OOP**\n",
        "\n",
        "   The advantages of OOP are **code reusability, modularity, scalability, easier maintenance, and better real-world modeling**.\n"
      ],
      "metadata": {
        "id": "TWiAOU8BTvsI"
      }
    },
    {
      "cell_type": "markdown",
      "source": [
        "17.**What is the difference between a class variable and an instance variable**\n",
        "\n",
        "  A **class variable** is shared by all objects of a class, while an **instance variable** is unique to each object.\n"
      ],
      "metadata": {
        "id": "cY-ed-X-T6-Z"
      }
    },
    {
      "cell_type": "markdown",
      "source": [
        "18.**What is multiple inheritance in Python**\n",
        "\n",
        "  **Multiple inheritance** in Python is when a class can inherit attributes and methods from more than one parent class.\n"
      ],
      "metadata": {
        "id": "2br8MsXlUJQl"
      }
    },
    {
      "cell_type": "markdown",
      "source": [
        "19.**Explain the purpose of ‘’__str__’ and ‘__repr__’ ‘ methods in Python**\n",
        "\n",
        "  `__str__` defines a user-friendly string representation of an object, while `__repr__` defines an unambiguous string representation mainly for developers and debugging.\n"
      ],
      "metadata": {
        "id": "Vp45_YFhUiEB"
      }
    },
    {
      "cell_type": "markdown",
      "source": [
        "20.**What is the significance of the ‘super()’ function in Python**\n",
        "\n",
        "The **`super()`** function in Python is used to call methods from a parent class, helping with code reuse and supporting multiple inheritance.\n"
      ],
      "metadata": {
        "id": "vPXEG9tfUvw-"
      }
    },
    {
      "cell_type": "markdown",
      "source": [
        "21.**What is the significance of the __del__ method in Python**\n",
        "\n",
        "  The **`__del__`** method in Python is a destructor that is called when an object is about to be destroyed, used to release resources or perform cleanup.\n"
      ],
      "metadata": {
        "id": "4RrbHe2iU9aR"
      }
    },
    {
      "cell_type": "markdown",
      "source": [
        "22.**What is the difference between @staticmethod and @classmethod in Python**\n",
        "\n",
        "  **@staticmethod** does not take `self` or `cls` and works like a normal function inside a class, while **@classmethod** takes `cls` and works with the class itself.\n"
      ],
      "metadata": {
        "id": "W_3xOTxRVI1r"
      }
    },
    {
      "cell_type": "markdown",
      "source": [
        "23.**How does polymorphism work in Python with inheritance**\n",
        "\n",
        "  In Python, polymorphism with inheritance works when a child class overrides a parent class method, and the same method call behaves differently depending on the object.\n"
      ],
      "metadata": {
        "id": "2cHxArKaVU2E"
      }
    },
    {
      "cell_type": "markdown",
      "source": [
        "24.**What is method chaining in Python OOP**\n",
        "\n",
        "  **Method chaining** in Python OOP is calling multiple methods on the same object in a single line because each method returns the object itself.\n"
      ],
      "metadata": {
        "id": "RYLxTI7fViRH"
      }
    },
    {
      "cell_type": "markdown",
      "source": [
        "25.**What is the purpose of the __call__ method in Python**\n",
        "\n",
        "  The **`__call__`** method in Python allows an object to be called like a function.\n"
      ],
      "metadata": {
        "id": "EUxjgWEJVth3"
      }
    },
    {
      "cell_type": "markdown",
      "source": [
        "# **Practical Questions**"
      ],
      "metadata": {
        "id": "pBVfrRwCRlN5"
      }
    },
    {
      "cell_type": "markdown",
      "source": [
        "1.Create a parent class Animal with a method speak() that prints a generic message. Create a child class Dog\n",
        "that overrides the speak() method to print \"Bark!\"."
      ],
      "metadata": {
        "id": "ExnKPuzQR01O"
      }
    },
    {
      "cell_type": "code",
      "source": [
        "\n",
        "class Animal:\n",
        "    def speak(self):\n",
        "        print(\"This animal makes a sound.\")\n",
        "\n",
        "# Child class\n",
        "class Dog(Animal):\n",
        "    def speak(self):\n",
        "        print(\"Bark!\")\n",
        "\n",
        "# Example usage\n",
        "a = Animal()\n",
        "a.speak()  # Output: This animal makes a sound.\n",
        "\n",
        "d = Dog()\n",
        "d.speak()  # Output: Bark!\n"
      ],
      "metadata": {
        "colab": {
          "base_uri": "https://localhost:8080/"
        },
        "id": "455Obe_MR6Dm",
        "outputId": "637938fd-81aa-4e8b-c2e8-7bb34a2a122c"
      },
      "execution_count": 1,
      "outputs": [
        {
          "output_type": "stream",
          "name": "stdout",
          "text": [
            "This animal makes a sound.\n",
            "Bark!\n"
          ]
        }
      ]
    },
    {
      "cell_type": "markdown",
      "source": [
        "2.Write a program to create an abstract class Shape with a method area(). Derive classes Circle and Rectangle\n",
        "from it and implement the area() method in both."
      ],
      "metadata": {
        "id": "OyoyuLb5Sb49"
      }
    },
    {
      "cell_type": "code",
      "source": [
        "from abc import ABC, abstractmethod\n",
        "import math\n",
        "\n",
        "# Abstract class\n",
        "class Shape(ABC):\n",
        "    @abstractmethod\n",
        "    def area(self):\n",
        "        pass\n",
        "\n",
        "# Derived class Circle\n",
        "class Circle(Shape):\n",
        "    def __init__(self, radius):\n",
        "        self.radius = radius\n",
        "\n",
        "    def area(self):\n",
        "        return math.pi * self.radius ** 2\n",
        "\n",
        "# Derived class Rectangle\n",
        "class Rectangle(Shape):\n",
        "    def __init__(self, length, width):\n",
        "        self.length = length\n",
        "        self.width = width\n",
        "\n",
        "    def area(self):\n",
        "        return self.length * self.width\n",
        "\n",
        "# Example usage\n",
        "shapes = [\n",
        "    Circle(5),\n",
        "    Rectangle(4, 6)\n",
        "]\n",
        "\n",
        "for shape in shapes:\n",
        "    print(f\"{shape.__class__.__name__} area: {shape.area()}\")\n"
      ],
      "metadata": {
        "colab": {
          "base_uri": "https://localhost:8080/"
        },
        "id": "b-cpwhexSkZN",
        "outputId": "a38a0df9-4227-4d93-9ef3-7990a582b87c"
      },
      "execution_count": 2,
      "outputs": [
        {
          "output_type": "stream",
          "name": "stdout",
          "text": [
            "Circle area: 78.53981633974483\n",
            "Rectangle area: 24\n"
          ]
        }
      ]
    },
    {
      "cell_type": "markdown",
      "source": [
        "3.Implement a multi-level inheritance scenario where a class Vehicle has an attribute type. Derive a class Car\n",
        "and further derive a class ElectricCar that adds a battery attribute."
      ],
      "metadata": {
        "id": "2KlI4BFXS6SZ"
      }
    },
    {
      "cell_type": "code",
      "source": [
        "# Base class\n",
        "class Vehicle:\n",
        "    def __init__(self, vehicle_type):\n",
        "        self.type = vehicle_type\n",
        "\n",
        "    def display_info(self):\n",
        "        print(f\"Type: {self.type}\")\n",
        "\n",
        "\n",
        "# Derived class from Vehicle\n",
        "class Car(Vehicle):\n",
        "    def __init__(self, vehicle_type, brand, model):\n",
        "        super().__init__(vehicle_type)\n",
        "        self.brand = brand\n",
        "        self.model = model\n",
        "\n",
        "    def display_info(self):\n",
        "        super().display_info()\n",
        "        print(f\"Brand: {self.brand}, Model: {self.model}\")\n",
        "\n",
        "\n",
        "# Further derived class from Car\n",
        "class ElectricCar(Car):\n",
        "    def __init__(self, vehicle_type, brand, model, battery_capacity):\n",
        "        super().__init__(vehicle_type, brand, model)\n",
        "        self.battery = battery_capacity\n",
        "\n",
        "    def display_info(self):\n",
        "        super().display_info()\n",
        "        print(f\"Battery Capacity: {self.battery} kWh\")\n",
        "\n",
        "\n",
        "# Example usage\n",
        "ev = ElectricCar(\"Car\", \"Tesla\", \"Model 3\", 75)\n",
        "ev.display_info()\n"
      ],
      "metadata": {
        "colab": {
          "base_uri": "https://localhost:8080/"
        },
        "id": "-CWICQFuTD5k",
        "outputId": "be328ccd-22a9-4ca0-8d95-eeb192bd67e1"
      },
      "execution_count": 26,
      "outputs": [
        {
          "output_type": "stream",
          "name": "stdout",
          "text": [
            "Type: Car\n",
            "Brand: Tesla, Model: Model 3\n",
            "Battery Capacity: 75 kWh\n"
          ]
        }
      ]
    },
    {
      "cell_type": "markdown",
      "source": [
        "4.Demonstrate polymorphism by creating a base class Bird with a method fly(). Create two derived classes\n",
        "Sparrow and Penguin that override the fly() method."
      ],
      "metadata": {
        "id": "QJ4Cfg0PTuby"
      }
    },
    {
      "cell_type": "code",
      "source": [
        "# Base class\n",
        "class Bird:\n",
        "    def fly(self):\n",
        "        print(\"Birds can fly in different ways.\")\n",
        "\n",
        "# Derived class Sparrow\n",
        "class Sparrow(Bird):\n",
        "    def fly(self):\n",
        "        print(\"Sparrow flies swiftly in the sky.\")\n",
        "\n",
        "# Derived class Penguin\n",
        "class Penguin(Bird):\n",
        "    def fly(self):\n",
        "        print(\"Penguins cannot fly, they swim instead.\")\n",
        "\n",
        "# Demonstrating polymorphism\n",
        "birds = [Sparrow(), Penguin()]\n",
        "\n",
        "for bird in birds:\n",
        "    bird.fly()  # Calls the appropriate overridden method\n"
      ],
      "metadata": {
        "colab": {
          "base_uri": "https://localhost:8080/"
        },
        "id": "Zo5uR4IXT5Tp",
        "outputId": "5c01bacf-a951-465c-bc4f-da0630bd4d0f"
      },
      "execution_count": 25,
      "outputs": [
        {
          "output_type": "stream",
          "name": "stdout",
          "text": [
            "Sparrow flies swiftly in the sky.\n",
            "Penguins cannot fly, they swim instead.\n"
          ]
        }
      ]
    },
    {
      "cell_type": "markdown",
      "source": [
        "5.Write a program to demonstrate encapsulation by creating a class BankAccount with private attributes\n",
        "balance and methods to deposit, withdraw, and check balance"
      ],
      "metadata": {
        "id": "8C9meD4qT-4q"
      }
    },
    {
      "cell_type": "code",
      "source": [
        "class BankAccount:\n",
        "    def __init__(self, initial_balance=0):\n",
        "        self.__balance = initial_balance  # private attribute\n",
        "\n",
        "    # Method to deposit money\n",
        "    def deposit(self, amount):\n",
        "        if amount > 0:\n",
        "            self.__balance += amount\n",
        "            print(f\"Deposited: {amount}\")\n",
        "        else:\n",
        "            print(\"Deposit amount must be positive!\")\n",
        "\n",
        "    # Method to withdraw money\n",
        "    def withdraw(self, amount):\n",
        "        if 0 < amount <= self.__balance:\n",
        "            self.__balance -= amount\n",
        "            print(f\"Withdrew: {amount}\")\n",
        "        else:\n",
        "            print(\"Insufficient balance or invalid amount!\")\n",
        "\n",
        "    # Method to check balance\n",
        "    def check_balance(self):\n",
        "        print(f\"Current balance: {self.__balance}\")\n",
        "\n",
        "# Example usage\n",
        "account = BankAccount(100)\n",
        "account.deposit(50)\n",
        "account.withdraw(20)\n",
        "account.check_balance()\n",
        "account.withdraw(200) # Test insufficient balance"
      ],
      "metadata": {
        "colab": {
          "base_uri": "https://localhost:8080/"
        },
        "id": "zeDZb0_IUDuh",
        "outputId": "784d07ba-4e62-4a42-f790-49618a017743"
      },
      "execution_count": 24,
      "outputs": [
        {
          "output_type": "stream",
          "name": "stdout",
          "text": [
            "Deposited: 50\n",
            "Withdrew: 20\n",
            "Current balance: 130\n",
            "Insufficient balance or invalid amount!\n"
          ]
        }
      ]
    },
    {
      "cell_type": "markdown",
      "source": [
        "6.Demonstrate runtime polymorphism using a method play() in a base class Instrument. Derive classes Guitar\n",
        "and Piano that implement their own version of play()."
      ],
      "metadata": {
        "id": "fd-af8hQUJGP"
      }
    },
    {
      "cell_type": "code",
      "source": [
        "# Base class\n",
        "class Instrument:\n",
        "    def play(self):\n",
        "        print(\"An instrument is being played.\")\n",
        "\n",
        "# Derived class Guitar\n",
        "class Guitar(Instrument):\n",
        "    def play(self):\n",
        "        print(\"Strumming the guitar...\")\n",
        "\n",
        "# Derived class Piano\n",
        "class Piano(Instrument):\n",
        "    def play(self):\n",
        "        print(\"Playing the piano... \")\n",
        "\n",
        "# Demonstrating runtime polymorphism\n",
        "def perform(instrument):\n",
        "    instrument.play()   # Calls the correct version at runtime\n",
        "\n",
        "#\n"
      ],
      "metadata": {
        "id": "NBhcaWYXUPO0"
      },
      "execution_count": 21,
      "outputs": []
    },
    {
      "cell_type": "markdown",
      "source": [
        "7.Create a class MathOperations with a class method add_numbers() to add two numbers and a static\n",
        "method subtract_numbers() to subtract two numbers."
      ],
      "metadata": {
        "id": "tjYh82w5UV2V"
      }
    },
    {
      "cell_type": "code",
      "source": [
        "class MathOperations:\n",
        "    # Class method: can access class-level data (if needed)\n",
        "    @classmethod\n",
        "    def add_numbers(cls, a, b):\n",
        "        return a + b\n",
        "\n",
        "    # Static method: independent utility function\n",
        "    @staticmethod\n",
        "    def subtract_numbers(a, b):\n",
        "        return a - b\n",
        "\n",
        "\n",
        "# Example usage\n",
        "print(\"Addition:\", MathOperations.add_numbers(10, 5))     # Uses class method\n",
        "print(\"Subtraction:\", MathOperations.subtract_numbers(10, 5))  # Uses static method\n"
      ],
      "metadata": {
        "colab": {
          "base_uri": "https://localhost:8080/"
        },
        "id": "0vS3NQLPUi-m",
        "outputId": "ab035f2e-4c01-4a2a-da41-9dc47a792919"
      },
      "execution_count": 20,
      "outputs": [
        {
          "output_type": "stream",
          "name": "stdout",
          "text": [
            "Addition: 15\n",
            "Subtraction: 5\n"
          ]
        }
      ]
    },
    {
      "cell_type": "markdown",
      "source": [
        "8.Implement a class Person with a class method to count the total number of persons created."
      ],
      "metadata": {
        "id": "yraE7jzPU8zZ"
      }
    },
    {
      "cell_type": "code",
      "source": [
        "class Person:\n",
        "    # Class variable to count persons\n",
        "    person_count = 0\n",
        "\n",
        "    def __init__(self, name):\n",
        "        self.name = name\n",
        "        Person.person_count += 1   # Increment count whenever a new object is created\n",
        "\n",
        "    # Class method to get total number of persons\n",
        "    @classmethod\n",
        "    def get_person_count(cls):\n",
        "        return\n"
      ],
      "metadata": {
        "id": "FCLBbabbVDNI"
      },
      "execution_count": 19,
      "outputs": []
    },
    {
      "cell_type": "markdown",
      "source": [
        "9. Write a class Fraction with attributes numerator and denominator. Override the str method to display the\n",
        "fraction as \"numerator/denominator\"."
      ],
      "metadata": {
        "id": "QsSq_kSzVIMg"
      }
    },
    {
      "cell_type": "code",
      "source": [
        "class Fraction:\n",
        "    def __init__(self, numerator, denominator):\n",
        "        if denominator == 0:\n",
        "            raise ValueError(\"Denominator cannot be zero.\")\n",
        "        self.numerator = numerator\n",
        "        self.denominator = denominator\n",
        "\n",
        "    # Override __str__ to display as \"numerator/denominator\"\n",
        "    def __str__(self):\n",
        "        return f\"{self.numerator}/{self.denominator}\"\n",
        "\n",
        "\n",
        "# Example usage\n",
        "f1 = Fraction(3, 4)\n",
        "f2 = Fraction(7, 2)\n",
        "\n",
        "print(f1)  # Output: 3/4\n",
        "print(f2)  # Output: 7/2\n"
      ],
      "metadata": {
        "colab": {
          "base_uri": "https://localhost:8080/"
        },
        "id": "wugk5tDlVNwJ",
        "outputId": "12c34490-157d-40f4-daf9-f09b1cea6686"
      },
      "execution_count": 18,
      "outputs": [
        {
          "output_type": "stream",
          "name": "stdout",
          "text": [
            "3/4\n",
            "7/2\n"
          ]
        }
      ]
    },
    {
      "cell_type": "markdown",
      "source": [
        "10.Demonstrate operator overloading by creating a class Vector and overriding the add method to add two\n",
        "vectors"
      ],
      "metadata": {
        "id": "I_stEwJkVR1A"
      }
    },
    {
      "cell_type": "code",
      "source": [
        "class Vector:\n",
        "    def __init__(self, x, y):\n",
        "        self.x = x\n",
        "        self.y = y\n",
        "\n",
        "    # Override __add__ to add two vectors\n",
        "    def __add__(self, other):\n",
        "        return Vector(self.x + other.x, self.y + other.y)\n",
        "\n",
        "    # Override __str__ for readable output\n",
        "    def __str__(self):\n",
        "        return f\"({self.x}, {self.y})\"\n",
        "\n",
        "\n",
        "# Example usage\n",
        "v1 = Vector(2, 3)\n",
        "v2 = Vector(4, 5)\n",
        "\n",
        "v3 = v1 + v2   # Calls __add__\n",
        "print(\"v1:\", v1)  # (2, 3)\n",
        "print(\"v2:\", v2)  # (4, 5)\n",
        "print(\"v1 + v2 =\", v3)  # (6, 8)\n"
      ],
      "metadata": {
        "colab": {
          "base_uri": "https://localhost:8080/"
        },
        "id": "XwpgRI7jVWT2",
        "outputId": "22aee62e-8b3b-4358-9ef3-9c164bcd840d"
      },
      "execution_count": 6,
      "outputs": [
        {
          "output_type": "stream",
          "name": "stdout",
          "text": [
            "v1: (2, 3)\n",
            "v2: (4, 5)\n",
            "v1 + v2 = (6, 8)\n"
          ]
        }
      ]
    },
    {
      "cell_type": "markdown",
      "source": [
        "11.Create a class Person with attributes name and age. Add a method greet() that prints \"Hello, my name is\n",
        "{name} and I am {age} years old.\""
      ],
      "metadata": {
        "id": "HqASTme9Vfb7"
      }
    },
    {
      "cell_type": "code",
      "source": [
        "class Person:\n",
        "    def __init__(self, name, age):\n",
        "        self.name = name\n",
        "        self.age = age\n",
        "\n",
        "    def greet(self):\n",
        "        print(f\"Hello, my name is {self.name} and I am {self.age} years old.\")\n",
        "\n",
        "\n",
        "# Example usage\n",
        "p1 = Person(\"Ayush\", 25)\n",
        "p2 = Person(\"Royal\", 30)\n",
        "\n",
        "p1.greet()\n",
        "p2.greet()\n"
      ],
      "metadata": {
        "colab": {
          "base_uri": "https://localhost:8080/"
        },
        "id": "_2Z-2pztVlpF",
        "outputId": "a0acb55b-0426-461b-f755-65146e31e368"
      },
      "execution_count": 8,
      "outputs": [
        {
          "output_type": "stream",
          "name": "stdout",
          "text": [
            "Hello, my name is Ayush and I am 25 years old.\n",
            "Hello, my name is Royal and I am 30 years old.\n"
          ]
        }
      ]
    },
    {
      "cell_type": "markdown",
      "source": [
        "12.Implement a class Student with attributes name and grades. Create a method average_grade() to compute\n",
        "the average of the grades"
      ],
      "metadata": {
        "id": "FaU13j6JVzUV"
      }
    },
    {
      "cell_type": "code",
      "source": [
        "class Student:\n",
        "    def __init__(self, name, grades):\n",
        "        self.name = name\n",
        "        self.grades = grades  # list of numbers\n",
        "\n",
        "    def average_grade(self):\n",
        "        if len(self.grades) == 0:\n",
        "            return 0  # avoid division by zero\n",
        "        return sum(self.grades) / len(self.grades)\n",
        "\n",
        "\n",
        "# Example usage\n",
        "s1 = Student(\"Alice\", [85, 90, 78, 92])\n",
        "s2 = Student(\"Bob\", [70, 65, 80])\n",
        "\n",
        "print(f\"{s1.name}'s average grade: {s1.average_grade():.2f}\")\n",
        "print(f\"{s2.name}'s average grade: {s2.average_grade():.2f}\")\n"
      ],
      "metadata": {
        "colab": {
          "base_uri": "https://localhost:8080/"
        },
        "id": "_NIF4YdGV4bH",
        "outputId": "4317f39c-8fb6-44de-efed-8c917582f50d"
      },
      "execution_count": 9,
      "outputs": [
        {
          "output_type": "stream",
          "name": "stdout",
          "text": [
            "Alice's average grade: 86.25\n",
            "Bob's average grade: 71.67\n"
          ]
        }
      ]
    },
    {
      "cell_type": "markdown",
      "source": [
        "13.Create a class Rectangle with methods set_dimensions() to set the dimensions and area() to calculate the\n",
        "area"
      ],
      "metadata": {
        "id": "Gn1eDMC6V9q4"
      }
    },
    {
      "cell_type": "code",
      "source": [
        "class Rectangle:\n",
        "    def __init__(self):\n",
        "        self.length = 0\n",
        "        self.width = 0\n",
        "\n",
        "    # Method to set dimensions\n",
        "    def set_dimensions(self, length, width):\n",
        "        self.length = length\n",
        "        self.width = width\n",
        "\n",
        "    # Method to calculate area\n",
        "    def area(self):\n",
        "        return self.length * self.width\n",
        "\n",
        "\n",
        "# Example usage\n",
        "rect = Rectangle()\n",
        "rect.set_dimensions(5, 3)\n",
        "print(\"Area of rectangle:\", rect.area())\n"
      ],
      "metadata": {
        "colab": {
          "base_uri": "https://localhost:8080/"
        },
        "id": "HDlFzvPFWD-H",
        "outputId": "f63826bb-51b7-4f3b-8803-d666a842b820"
      },
      "execution_count": 10,
      "outputs": [
        {
          "output_type": "stream",
          "name": "stdout",
          "text": [
            "Area of rectangle: 15\n"
          ]
        }
      ]
    },
    {
      "cell_type": "markdown",
      "source": [
        "14.Create a class Employee with a method calculate_salary() that computes the salary based on hours worked\n",
        "and hourly rate. Create a derived class Manager that adds a bonus to the salary"
      ],
      "metadata": {
        "id": "vuWO025uWJIX"
      }
    },
    {
      "cell_type": "code",
      "source": [
        "# Base class\n",
        "class Employee:\n",
        "    def __init__(self, name, hours_worked, hourly_rate):\n",
        "        self.name = name\n",
        "        self.hours_worked = hours_worked\n",
        "        self.hourly_rate = hourly_rate\n",
        "\n",
        "    def calculate_salary(self):\n",
        "        return self.hours_worked * self.hourly_rate\n",
        "\n",
        "\n",
        "# Derived class\n",
        "class Manager(Employee):\n",
        "    def __init__(self, name, hours_worked, hourly_rate, bonus):\n",
        "        super().__init__(name, hours_worked, hourly_rate)\n",
        "        self.bonus = bonus\n",
        "\n",
        "    def calculate_salary(self):\n",
        "        base_salary = super().calculate_salary()\n",
        "        return base_salary + self.bonus\n",
        "\n",
        "\n",
        "# Example usage\n",
        "emp = Employee(\"Alice\", 40, 20)      # 40 hours * $20/hr\n",
        "mgr = Manager(\"Bob\", 45, 30, 500)   #\n"
      ],
      "metadata": {
        "id": "u7_ZYzRJWN6_"
      },
      "execution_count": 17,
      "outputs": []
    },
    {
      "cell_type": "markdown",
      "source": [
        "15.Create a class Product with attributes name, price, and quantity. Implement a method total_price() that\n",
        "calculates the total price of the product"
      ],
      "metadata": {
        "id": "zcQHy1FZWSZM"
      }
    },
    {
      "cell_type": "code",
      "source": [
        "class Product:\n",
        "    def __init__(self, name, price, quantity):\n",
        "        self.name = name\n",
        "        self.price = price\n",
        "        self.quantity = quantity\n",
        "\n",
        "    # Method to calculate total price\n",
        "    def total_price(self):\n",
        "        return self.price * self.quantity\n",
        "\n",
        "\n",
        "# Example usage\n",
        "p1 = Product(\"Laptop\", 750, 2)\n",
        "p2 = Product(\"Phone\", 500, 3)\n",
        "\n",
        "print(f\"{p1.name} total price: ${p1.total_price()}\")\n",
        "print(f\"{p2.name} total price: ${p2.total_price()}\")\n",
        "\n"
      ],
      "metadata": {
        "colab": {
          "base_uri": "https://localhost:8080/"
        },
        "id": "Len6_UKpWZjq",
        "outputId": "5d7419b6-65af-4c32-f5cb-25ef192a4a47"
      },
      "execution_count": 13,
      "outputs": [
        {
          "output_type": "stream",
          "name": "stdout",
          "text": [
            "Laptop total price: $1500\n",
            "Phone total price: $1500\n"
          ]
        }
      ]
    },
    {
      "cell_type": "markdown",
      "source": [
        "16.Create a class Animal with an abstract method sound(). Create two derived classes Cow and Sheep that\n",
        "implement the sound() method"
      ],
      "metadata": {
        "id": "p7uKjJSHWxQw"
      }
    },
    {
      "cell_type": "code",
      "source": [
        "from abc import ABC, abstractmethod\n",
        "\n",
        "# Abstract base class\n",
        "class Animal(ABC):\n",
        "    @abstractmethod\n",
        "    def sound(self):\n",
        "        pass\n",
        "\n",
        "\n",
        "# Derived class Cow\n",
        "class Cow(Animal):\n",
        "    def sound(self):\n",
        "        return \"Moo\"\n",
        "\n",
        "\n",
        "# Derived class Sheep\n",
        "class Sheep(Animal):\n",
        "    def sound(self):\n",
        "        return \"Baa\"\n",
        "\n",
        "\n",
        "# Example usage\n",
        "animals = [Cow(), Sheep()]\n",
        "\n",
        "for animal in animals:\n",
        "    print(f\"{animal.__class__.__name__} sound: {animal.sound()}\")\n"
      ],
      "metadata": {
        "colab": {
          "base_uri": "https://localhost:8080/"
        },
        "id": "9FwjmGkQW4OR",
        "outputId": "1415815d-9ba5-4a17-8011-5485ef68cbd3"
      },
      "execution_count": 14,
      "outputs": [
        {
          "output_type": "stream",
          "name": "stdout",
          "text": [
            "Cow sound: Moo\n",
            "Sheep sound: Baa\n"
          ]
        }
      ]
    },
    {
      "cell_type": "markdown",
      "source": [
        "17.Create a class Book with attributes title, author, and year_published. Add a method get_book_info() that\n",
        "returns a formatted string with the book's details."
      ],
      "metadata": {
        "id": "3ncmpgDtW-Qu"
      }
    },
    {
      "cell_type": "code",
      "source": [
        "class Book:\n",
        "    def __init__(self, title, author, year_published):\n",
        "        self.title = title\n",
        "        self.author = author\n",
        "        self.year_published = year_published\n",
        "\n",
        "    def get_book_info(self):\n",
        "        return f\"'{self.title}' by {self.author}, published in {self.year_published}\"\n",
        "\n",
        "\n",
        "# Example usage\n",
        "b1 = Book(\"1984\", \"George Orwell\", 1949)\n",
        "b2 = Book(\"To Kill a Mockingbird\", \"Harper Lee\", 1960)\n",
        "\n",
        "print(b1.get_book_info())\n",
        "print(b2.get_book_info())\n"
      ],
      "metadata": {
        "colab": {
          "base_uri": "https://localhost:8080/"
        },
        "id": "lrna_BYPXEqf",
        "outputId": "f5c03d40-914d-48d6-ff52-d5d5c5a72efb"
      },
      "execution_count": 16,
      "outputs": [
        {
          "output_type": "stream",
          "name": "stdout",
          "text": [
            "'1984' by George Orwell, published in 1949\n",
            "'To Kill a Mockingbird' by Harper Lee, published in 1960\n"
          ]
        }
      ]
    },
    {
      "cell_type": "markdown",
      "source": [
        "18.Create a class House with attributes address and price. Create a derived class Mansion that adds an\n",
        "attribute number_of_rooms"
      ],
      "metadata": {
        "id": "MGOfkLYsXKB-"
      }
    },
    {
      "cell_type": "code",
      "source": [
        "# Base class\n",
        "class House:\n",
        "    def __init__(self, address, price):\n",
        "        self.address = address\n",
        "        self.price = price\n",
        "\n",
        "    def get_info(self):\n",
        "        return f\"House at {self.address}, priced at ${self.price}\"\n",
        "\n",
        "\n",
        "# Derived class\n",
        "class Mansion(House):\n",
        "    def __init__(self, address, price, number_of_rooms):\n",
        "        super().__init__(address, price)\n",
        "        self.number_of_rooms = number_of_rooms\n",
        "\n",
        "    def get_info(self):\n",
        "        return f\"Mansion at {self.address}, priced at ${self.price}, with {self.number_of_rooms} rooms\"\n",
        "\n",
        "\n",
        "# Example usage\n",
        "h1 = House(\"123 Main St\", 250000)\n",
        "m1 = Mansion(\"456 Luxury Ave\", 2000000, 12)\n",
        "\n",
        "print(h1.get_info())\n",
        "print(m1.get_info())\n"
      ],
      "metadata": {
        "colab": {
          "base_uri": "https://localhost:8080/"
        },
        "id": "fgkuFllqXPU6",
        "outputId": "a0050a65-2f89-4d0d-9606-3395ec20b2f5"
      },
      "execution_count": 15,
      "outputs": [
        {
          "output_type": "stream",
          "name": "stdout",
          "text": [
            "House at 123 Main St, priced at $250000\n",
            "Mansion at 456 Luxury Ave, priced at $2000000, with 12 rooms\n"
          ]
        }
      ]
    }
  ]
}